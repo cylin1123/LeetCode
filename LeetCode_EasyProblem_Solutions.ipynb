{
 "cells": [
  {
   "cell_type": "markdown",
   "metadata": {},
   "source": [
    "### 1. Two Sum\n",
    "\n",
    "https://leetcode.com/problems/two-sum/description/\n",
    "        "
   ]
  },
  {
   "cell_type": "code",
   "execution_count": 59,
   "metadata": {},
   "outputs": [
    {
     "data": {
      "text/plain": [
       "[1, 2]"
      ]
     },
     "execution_count": 59,
     "metadata": {},
     "output_type": "execute_result"
    }
   ],
   "source": [
    "class Solution(object):\n",
    "    def twoSum(self, nums, target):\n",
    "        \"\"\"\n",
    "        :type nums: List[int]\n",
    "        :type target: int\n",
    "        :rtype: List[int]\n",
    "        \"\"\"\n",
    "        for i in range(0,len(nums)):\n",
    "            for j in range(1,len(nums)):\n",
    "                if nums[i]+nums[j] == target and i!=j:\n",
    "                    return [i,j]\n",
    "\n",
    "A = Solution()\n",
    "A.twoSum([2,5,5,15],10)\n"
   ]
  },
  {
   "cell_type": "markdown",
   "metadata": {},
   "source": [
    "### 7. Reverse Integer\n",
    "\n",
    "https://leetcode.com/problems/reverse-integer/description/\n",
    "\n",
    "PS. 反轉整數中的數位。 \n",
    "例子1：給定x=123，返回321；\n",
    "例子2：給定x=-123，返回-321。 \n",
    "反轉溢位 => 0"
   ]
  },
  {
   "cell_type": "code",
   "execution_count": 65,
   "metadata": {},
   "outputs": [
    {
     "name": "stdout",
     "output_type": "stream",
     "text": [
      "321\n",
      "-321321321\n",
      "0\n"
     ]
    }
   ],
   "source": [
    "class Solution(object):\n",
    "    def reverse(self, x):\n",
    "        \"\"\"\n",
    "        :type x: int\n",
    "        :rtype: int\n",
    "        \"\"\"\n",
    "        if x >= 0:            \n",
    "            x = int(str(x)[::-1])        \n",
    "        else :            \n",
    "            x = -int(str(-x)[::-1]) # (-)*(-)=(+) \n",
    "        \n",
    "        if x < 2147483648 and x >= -2147483648:\n",
    "            return x\n",
    "        else :\n",
    "            return 0\n",
    "        \n",
    "A = Solution()\n",
    "print A.reverse(123)\n",
    "print A.reverse(-123123123)\n",
    "print A.reverse(-12312312312313123)\n",
    "        "
   ]
  },
  {
   "cell_type": "code",
   "execution_count": 66,
   "metadata": {},
   "outputs": [
    {
     "name": "stdout",
     "output_type": "stream",
     "text": [
      "321\n",
      "-321321321\n",
      "0\n"
     ]
    }
   ],
   "source": [
    "class Solution(object):\n",
    "    def reverse(self, x):\n",
    "        \"\"\"\n",
    "        :type x: int\n",
    "        :rtype: int\n",
    "        \"\"\"\n",
    "        x = int(str(x)[::-1]) if x >= 0 else - int(str(-x)[::-1])\n",
    "        return x if x < 2147483648 and x >= -2147483648 else 0\n",
    "        \n",
    "A = Solution()\n",
    "print A.reverse(123)\n",
    "print A.reverse(-123123123)\n",
    "print A.reverse(-12312312312313123)"
   ]
  },
  {
   "cell_type": "markdown",
   "metadata": {},
   "source": [
    "### 9. Palindrome Number\n",
    "\n",
    "https://leetcode.com/problems/palindrome-number/\n",
    "\n",
    "PS. 判斷一個整數（integer）是否是回文，不使用額外的空間。\n",
    "不能使用將數字轉字串方法"
   ]
  },
  {
   "cell_type": "code",
   "execution_count": 73,
   "metadata": {},
   "outputs": [
    {
     "data": {
      "text/plain": [
       "True"
      ]
     },
     "execution_count": 73,
     "metadata": {},
     "output_type": "execute_result"
    }
   ],
   "source": [
    "class Solution(object):\n",
    "    def isPalindrome(self, x):\n",
    "        \"\"\"\n",
    "        :type x: int\n",
    "        :rtype: bool\n",
    "        \"\"\"\n",
    "        \n",
    "        if x < 0 or (x != 0 and x%10 == 0):\n",
    "            return False\n",
    "\n",
    "        tmp = x\n",
    "        y = 0\n",
    "        while tmp:    #判斷條件可以是任何運算式，任何非零、或非空（null）的值均為true\n",
    "            y = y*10 + tmp%10\n",
    "            tmp = tmp/10\n",
    "        return y == x\n",
    "        \n",
    "        \n",
    "A =Solution()\n",
    "A.isPalindrome(1221)"
   ]
  },
  {
   "cell_type": "code",
   "execution_count": 39,
   "metadata": {},
   "outputs": [
    {
     "data": {
      "text/plain": [
       "2"
      ]
     },
     "execution_count": 39,
     "metadata": {},
     "output_type": "execute_result"
    }
   ],
   "source": [
    "class Solution(object):\n",
    "    def uniqueMorseRepresentations(self, words):\n",
    "        \"\"\"\n",
    "        :type words: List[str]\n",
    "        :rtype: int\n",
    "        \"\"\"\n",
    "        code = [\".-\",\"-...\",\"-.-.\",\"-..\",\".\",\"..-.\",\"--.\",\"....\",\"..\",\".---\",\"-.-\",\".-..\",\"--\",\"-.\",\"---\",\".--.\",\"--.-\",\".-.\",\"...\",\"-\",\"..-\",\"...-\",\".--\",\"-..-\",\"-.--\",\"--..\"]\n",
    "        \n",
    "        trans =[]\n",
    "                \n",
    "        for word in words :\n",
    "            pwd =''\n",
    "            for ch in word :\n",
    "                # Tips : ord() transfre to ASCII, then find array index to mapping code \n",
    "                pwd = pwd +''.join(code[ord(ch)-ord('a')]) \n",
    "        \n",
    "            trans.append(pwd)\n",
    "        \n",
    "        return len(set(trans)) # Set(）是無序、元素不重複的集合\n",
    "\n",
    "A = Solution()\n",
    "A.uniqueMorseRepresentations([\"gin\", \"zen\", \"gig\", \"msg\"])\n",
    "              \n"
   ]
  },
  {
   "cell_type": "markdown",
   "metadata": {},
   "source": [
    "### 804. Unique Morse Code Words\n",
    "\n",
    "https://leetcode.com/problems/unique-morse-code-words/description/\n",
    "\n",
    "\n",
    "       "
   ]
  },
  {
   "cell_type": "markdown",
   "metadata": {},
   "source": [
    "### 709. To Lower Case\n",
    "\n",
    "https://leetcode.com/problems/to-lower-case/description/\n",
    "\n",
    "PS. Tips : str.lower()"
   ]
  },
  {
   "cell_type": "code",
   "execution_count": 41,
   "metadata": {},
   "outputs": [
    {
     "data": {
      "text/plain": [
       "'hello word'"
      ]
     },
     "execution_count": 41,
     "metadata": {},
     "output_type": "execute_result"
    }
   ],
   "source": [
    "class Solution(object):\n",
    "    def toLowerCase(self, str):\n",
    "        \"\"\"\n",
    "        :type str: str\n",
    "        :rtype: str\n",
    "        \"\"\"\n",
    "        return str.lower() \n",
    "    \n",
    "A = Solution()\n",
    "A.toLowerCase(\"Hello WOrd\")\n",
    "              "
   ]
  },
  {
   "cell_type": "markdown",
   "metadata": {},
   "source": [
    "### 461. Hamming Distance\n",
    "\n",
    "https://leetcode.com/problems/hamming-distance/description/\n",
    "    "
   ]
  },
  {
   "cell_type": "code",
   "execution_count": 46,
   "metadata": {},
   "outputs": [
    {
     "data": {
      "text/plain": [
       "2"
      ]
     },
     "execution_count": 46,
     "metadata": {},
     "output_type": "execute_result"
    }
   ],
   "source": [
    "class Solution(object):\n",
    "    def hammingDistance(self, x, y):\n",
    "        \"\"\"\n",
    "        :type x: int\n",
    "        :type y: int\n",
    "        :rtype: int\n",
    "        \"\"\"\n",
    "        # 按位异或运算符 (^) ：当两对应的二进位相异时，结果为1\n",
    "        \n",
    "        return bin(x^y).count('1')\n",
    "         \n",
    "        \n",
    "A = Solution()\n",
    "\n",
    "A.hammingDistance(4,1)      \n",
    "        "
   ]
  },
  {
   "cell_type": "markdown",
   "metadata": {},
   "source": [
    "### 832. Flipping an Image\n",
    "\n",
    "https://leetcode.com/problems/flipping-an-image/description/\n",
    "\n",
    "Tips\n"
   ]
  },
  {
   "cell_type": "code",
   "execution_count": 67,
   "metadata": {},
   "outputs": [
    {
     "name": "stdout",
     "output_type": "stream",
     "text": [
      "[0, 1, 1]\n",
      "[1, 0, 1]\n",
      "[0, 0, 0]\n"
     ]
    },
    {
     "data": {
      "text/plain": [
       "[[1, 0, 0], [0, 1, 0], [1, 1, 1]]"
      ]
     },
     "execution_count": 67,
     "metadata": {},
     "output_type": "execute_result"
    }
   ],
   "source": [
    "class Solution(object):\n",
    "    def flipAndInvertImage(self, A):\n",
    "        \"\"\"\n",
    "        :type A: List[List[int]]\n",
    "        :rtype: List[List[int]]\n",
    "        \"\"\"\n",
    "           \n",
    "        for row in range(len(A)):\n",
    "            A[row] =A[row][::-1]\n",
    "            print A[row]\n",
    "            \n",
    "            A[row] = [ch^1 for ch in A[row]]\n",
    "                \n",
    "        return A\n",
    "                \n",
    "        \n",
    "        \n",
    "A = Solution()\n",
    "A.flipAndInvertImage([[1,1,0],[1,0,1],[0,0,0]])"
   ]
  },
  {
   "cell_type": "markdown",
   "metadata": {},
   "source": [
    "### 657. Judge Route Circle\n",
    "\n",
    "https://leetcode.com/problems/judge-route-circle/description/\n",
    "\n",
    "Tips: \n",
    "機器人只能向上、下、左、右移動，想要路徑構成環，就一定是朝相互相反的方向來回走\n",
    "那就必須是：向左走了多少步，就要向右走多少步；向上走了多少步，就要向下走多少步"
   ]
  },
  {
   "cell_type": "code",
   "execution_count": 71,
   "metadata": {},
   "outputs": [
    {
     "data": {
      "text/plain": [
       "True"
      ]
     },
     "execution_count": 71,
     "metadata": {},
     "output_type": "execute_result"
    }
   ],
   "source": [
    "class Solution(object):\n",
    "    def judgeCircle(self, moves):\n",
    "        \"\"\"\n",
    "        :type moves: str\n",
    "        :rtype: bool\n",
    "        \"\"\"\n",
    "        \n",
    "        if len(moves) % 2 ==0 and moves.count(\"U\") == moves.count(\"D\") and moves.count(\"L\") == moves.count(\"R\") :\n",
    "            return True\n",
    "        else :\n",
    "            return False\n",
    "\n",
    "A = Solution()\n",
    "A.judgeCircle(\"DULURD\")"
   ]
  },
  {
   "cell_type": "markdown",
   "metadata": {},
   "source": [
    "### 617. Merge Two Binary Trees\n",
    "\n",
    "https://leetcode.com/problems/merge-two-binary-trees/description/\n",
    "    \n"
   ]
  },
  {
   "cell_type": "code",
   "execution_count": 12,
   "metadata": {},
   "outputs": [],
   "source": [
    "# Definition for a binary tree node.\n",
    "class TreeNode(object):\n",
    "    def __init__(self, x):\n",
    "            self.val = x\n",
    "            self.left = None\n",
    "            self.right = None\n",
    "            \n",
    "    def insertLeft(self, val):\n",
    "         # 如果要新增左邊節點，先檢查是否已存在，若左節點不存在則放入左節點\n",
    "        if self.left == None:\n",
    "                self.left = TreeNode(val)\n",
    "        else:\n",
    "             self.left.insertLeft(val)\n",
    "    \n",
    "    def insertRight(self, val):\n",
    "         # 新增右邊節點的方式則和新增左節點的方式相同\n",
    "        if self.right == None:\n",
    "             self.right = TreeNode(val)\n",
    "        else:\n",
    "             self.right.insertRight(val)\n",
    "            \n",
    "\n",
    "class Solution(object):\n",
    "    def mergeTrees(self, t1, t2):\n",
    "        \"\"\"\n",
    "        :type t1: TreeNode\n",
    "        :type t2: TreeNode\n",
    "        :rtype: TreeNode\n",
    "        \"\"\"\n",
    "        \n",
    "        if t1 is None : return t2\n",
    "        if t2 is None : return t1\n",
    "        \n",
    "        t1.val + t1.val +t2.val\n",
    "        t1.right = self.mergeTrees(t1.right,t2.right)\n",
    "        t1.left = self.mergeTrees(t1.left,t2.left)\n",
    "        \n",
    "        return t1   \n",
    "        \n",
    "A = Solution()\n",
    "\n",
    "A.mergeTrees()\n"
   ]
  },
  {
   "cell_type": "markdown",
   "metadata": {},
   "source": [
    "### 852. Peak Index in a Mountain Array\n",
    "\n",
    "https://leetcode.com/problems/peak-index-in-a-mountain-array/description/\n",
    "\n",
    "Tips : (1) 找出一個陣列中的山峰的索引。山峰的意思是指在一個長度大於3的陣列中，某個數值比相鄰的兩個數值都大\n",
    "       (Binary Search)\n"
   ]
  },
  {
   "cell_type": "code",
   "execution_count": 3,
   "metadata": {},
   "outputs": [
    {
     "name": "stdout",
     "output_type": "stream",
     "text": [
      "1\n"
     ]
    }
   ],
   "source": [
    "class Solution(object):\n",
    "    def peakIndexInMountainArray(self, A):\n",
    "        \"\"\"\n",
    "        :type A: List[int]\n",
    "        :rtype: int\n",
    "        \"\"\"\n",
    "        \n",
    "        left, right = 0, len(A) - 1\n",
    "        while left < right:\n",
    "            mid = (left + right) / 2\n",
    "            if A[mid - 1] < A[mid] and A[mid] < A[mid + 1]:\n",
    "                left = mid\n",
    "            elif A[mid - 1] > A[mid] and A[mid] > A[mid + 1]:\n",
    "                right = mid\n",
    "            else:\n",
    "                break\n",
    "        return mid\n",
    "\n",
    "A = Solution()\n",
    "print A.peakIndexInMountainArray([0,1,0])"
   ]
  },
  {
   "cell_type": "markdown",
   "metadata": {},
   "source": [
    "### 561. Array Partition I\n",
    "\n",
    "https://leetcode.com/problems/array-partition-i/description/\n",
    "    "
   ]
  },
  {
   "cell_type": "code",
   "execution_count": 4,
   "metadata": {},
   "outputs": [
    {
     "data": {
      "text/plain": [
       "4"
      ]
     },
     "execution_count": 4,
     "metadata": {},
     "output_type": "execute_result"
    }
   ],
   "source": [
    "class Solution(object):\n",
    "    def arrayPairSum(self, nums):\n",
    "        \"\"\"\n",
    "        :type nums: List[int]\n",
    "        :rtype: int\n",
    "        \"\"\"\n",
    "        nums.sort()\n",
    "        return sum(nums[::2])\n",
    "    \n",
    "A = Solution()\n",
    "A.arrayPairSum([1,4,2,3])"
   ]
  },
  {
   "cell_type": "code",
   "execution_count": null,
   "metadata": {},
   "outputs": [],
   "source": []
  }
 ],
 "metadata": {
  "kernelspec": {
   "display_name": "Python 2",
   "language": "python",
   "name": "python2"
  },
  "language_info": {
   "codemirror_mode": {
    "name": "ipython",
    "version": 2
   },
   "file_extension": ".py",
   "mimetype": "text/x-python",
   "name": "python",
   "nbconvert_exporter": "python",
   "pygments_lexer": "ipython2",
   "version": "2.7.12"
  }
 },
 "nbformat": 4,
 "nbformat_minor": 2
}
