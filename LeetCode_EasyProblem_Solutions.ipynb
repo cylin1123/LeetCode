{
 "cells": [
  {
   "cell_type": "markdown",
   "metadata": {},
   "source": [
    "1. Two Sum\n",
    "\n",
    "https://leetcode.com/problems/two-sum/description/\n",
    "        "
   ]
  },
  {
   "cell_type": "code",
   "execution_count": 59,
   "metadata": {},
   "outputs": [
    {
     "data": {
      "text/plain": [
       "[1, 2]"
      ]
     },
     "execution_count": 59,
     "metadata": {},
     "output_type": "execute_result"
    }
   ],
   "source": [
    "class Solution(object):\n",
    "    def twoSum(self, nums, target):\n",
    "        \"\"\"\n",
    "        :type nums: List[int]\n",
    "        :type target: int\n",
    "        :rtype: List[int]\n",
    "        \"\"\"\n",
    "        for i in range(0,len(nums)):\n",
    "            for j in range(1,len(nums)):\n",
    "                if nums[i]+nums[j] == target and i!=j:\n",
    "                    return [i,j]\n",
    "\n",
    "A = Solution()\n",
    "A.twoSum([2,5,5,15],10)\n"
   ]
  },
  {
   "cell_type": "markdown",
   "metadata": {},
   "source": [
    "7. Reverse Integer\n",
    "https://leetcode.com/problems/reverse-integer/description/\n",
    "\n",
    "PS. 反轉整數中的數位。 \n",
    "例子1：給定x=123，返回321；\n",
    "例子2：給定x=-123，返回-321。 \n",
    "反轉溢位 => 0"
   ]
  },
  {
   "cell_type": "code",
   "execution_count": 65,
   "metadata": {},
   "outputs": [
    {
     "name": "stdout",
     "output_type": "stream",
     "text": [
      "321\n",
      "-321321321\n",
      "0\n"
     ]
    }
   ],
   "source": [
    "class Solution(object):\n",
    "    def reverse(self, x):\n",
    "        \"\"\"\n",
    "        :type x: int\n",
    "        :rtype: int\n",
    "        \"\"\"\n",
    "        if x >= 0:            \n",
    "            x = int(str(x)[::-1])        \n",
    "        else :            \n",
    "            x = -int(str(-x)[::-1]) # (-)*(-)=(+) \n",
    "        \n",
    "        if x < 2147483648 and x >= -2147483648:\n",
    "            return x\n",
    "        else :\n",
    "            return 0\n",
    "        \n",
    "A = Solution()\n",
    "print A.reverse(123)\n",
    "print A.reverse(-123123123)\n",
    "print A.reverse(-12312312312313123)\n",
    "        "
   ]
  },
  {
   "cell_type": "code",
   "execution_count": 66,
   "metadata": {},
   "outputs": [
    {
     "name": "stdout",
     "output_type": "stream",
     "text": [
      "321\n",
      "-321321321\n",
      "0\n"
     ]
    }
   ],
   "source": [
    "class Solution(object):\n",
    "    def reverse(self, x):\n",
    "        \"\"\"\n",
    "        :type x: int\n",
    "        :rtype: int\n",
    "        \"\"\"\n",
    "        x = int(str(x)[::-1]) if x >= 0 else - int(str(-x)[::-1])\n",
    "        return x if x < 2147483648 and x >= -2147483648 else 0\n",
    "        \n",
    "A = Solution()\n",
    "print A.reverse(123)\n",
    "print A.reverse(-123123123)\n",
    "print A.reverse(-12312312312313123)"
   ]
  },
  {
   "cell_type": "markdown",
   "metadata": {},
   "source": [
    "9. Palindrome Number\n",
    "https://leetcode.com/problems/palindrome-number/\n",
    "\n",
    "PS. 判斷一個整數（integer）是否是回文，不使用額外的空間。\n",
    "不能使用將數字轉字串方法"
   ]
  },
  {
   "cell_type": "code",
   "execution_count": 73,
   "metadata": {},
   "outputs": [
    {
     "data": {
      "text/plain": [
       "True"
      ]
     },
     "execution_count": 73,
     "metadata": {},
     "output_type": "execute_result"
    }
   ],
   "source": [
    "class Solution(object):\n",
    "    def isPalindrome(self, x):\n",
    "        \"\"\"\n",
    "        :type x: int\n",
    "        :rtype: bool\n",
    "        \"\"\"\n",
    "        \n",
    "        if x < 0 or (x != 0 and x%10 == 0):\n",
    "            return False\n",
    "\n",
    "        tmp = x\n",
    "        y = 0\n",
    "        while tmp:    #判斷條件可以是任何運算式，任何非零、或非空（null）的值均為true\n",
    "            y = y*10 + tmp%10\n",
    "            tmp = tmp/10\n",
    "        return y == x\n",
    "        \n",
    "        \n",
    "A =Solution()\n",
    "A.isPalindrome(1221)"
   ]
  },
  {
   "cell_type": "code",
   "execution_count": null,
   "metadata": {},
   "outputs": [],
   "source": [
    "\n",
    "    \n",
    "       "
   ]
  },
  {
   "cell_type": "code",
   "execution_count": null,
   "metadata": {},
   "outputs": [],
   "source": []
  }
 ],
 "metadata": {
  "kernelspec": {
   "display_name": "Python 2",
   "language": "python",
   "name": "python2"
  },
  "language_info": {
   "codemirror_mode": {
    "name": "ipython",
    "version": 2
   },
   "file_extension": ".py",
   "mimetype": "text/x-python",
   "name": "python",
   "nbconvert_exporter": "python",
   "pygments_lexer": "ipython2",
   "version": "2.7.12"
  }
 },
 "nbformat": 4,
 "nbformat_minor": 2
}
