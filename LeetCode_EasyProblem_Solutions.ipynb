{
 "cells": [
  {
   "cell_type": "markdown",
   "metadata": {},
   "source": [
    "### 1. Two Sum\n",
    "\n",
    "https://leetcode.com/problems/two-sum/description/\n",
    "        "
   ]
  },
  {
   "cell_type": "code",
   "execution_count": 59,
   "metadata": {},
   "outputs": [
    {
     "data": {
      "text/plain": [
       "[1, 2]"
      ]
     },
     "execution_count": 59,
     "metadata": {},
     "output_type": "execute_result"
    }
   ],
   "source": [
    "class Solution(object):\n",
    "    def twoSum(self, nums, target):\n",
    "        \"\"\"\n",
    "        :type nums: List[int]\n",
    "        :type target: int\n",
    "        :rtype: List[int]\n",
    "        \"\"\"\n",
    "        for i in range(0,len(nums)):\n",
    "            for j in range(1,len(nums)):\n",
    "                if nums[i]+nums[j] == target and i!=j:\n",
    "                    return [i,j]\n",
    "\n",
    "A = Solution()\n",
    "A.twoSum([2,5,5,15],10)\n"
   ]
  },
  {
   "cell_type": "markdown",
   "metadata": {},
   "source": [
    "### 7. Reverse Integer\n",
    "\n",
    "https://leetcode.com/problems/reverse-integer/description/\n",
    "\n",
    "PS. 反轉整數中的數位。 \n",
    "例子1：給定x=123，返回321；\n",
    "例子2：給定x=-123，返回-321。 \n",
    "反轉溢位 => 0"
   ]
  },
  {
   "cell_type": "code",
   "execution_count": 65,
   "metadata": {},
   "outputs": [
    {
     "name": "stdout",
     "output_type": "stream",
     "text": [
      "321\n",
      "-321321321\n",
      "0\n"
     ]
    }
   ],
   "source": [
    "class Solution(object):\n",
    "    def reverse(self, x):\n",
    "        \"\"\"\n",
    "        :type x: int\n",
    "        :rtype: int\n",
    "        \"\"\"\n",
    "        if x >= 0:            \n",
    "            x = int(str(x)[::-1])        \n",
    "        else :            \n",
    "            x = -int(str(-x)[::-1]) # (-)*(-)=(+) \n",
    "        \n",
    "        if x < 2147483648 and x >= -2147483648:\n",
    "            return x\n",
    "        else :\n",
    "            return 0\n",
    "        \n",
    "A = Solution()\n",
    "print A.reverse(123)\n",
    "print A.reverse(-123123123)\n",
    "print A.reverse(-12312312312313123)\n",
    "        "
   ]
  },
  {
   "cell_type": "code",
   "execution_count": 66,
   "metadata": {},
   "outputs": [
    {
     "name": "stdout",
     "output_type": "stream",
     "text": [
      "321\n",
      "-321321321\n",
      "0\n"
     ]
    }
   ],
   "source": [
    "class Solution(object):\n",
    "    def reverse(self, x):\n",
    "        \"\"\"\n",
    "        :type x: int\n",
    "        :rtype: int\n",
    "        \"\"\"\n",
    "        x = int(str(x)[::-1]) if x >= 0 else - int(str(-x)[::-1])\n",
    "        return x if x < 2147483648 and x >= -2147483648 else 0\n",
    "        \n",
    "A = Solution()\n",
    "print A.reverse(123)\n",
    "print A.reverse(-123123123)\n",
    "print A.reverse(-12312312312313123)"
   ]
  },
  {
   "cell_type": "markdown",
   "metadata": {},
   "source": [
    "### 9. Palindrome Number\n",
    "\n",
    "https://leetcode.com/problems/palindrome-number/\n",
    "\n",
    "PS. 判斷一個整數（integer）是否是回文，不使用額外的空間。\n",
    "不能使用將數字轉字串方法"
   ]
  },
  {
   "cell_type": "code",
   "execution_count": 73,
   "metadata": {},
   "outputs": [
    {
     "data": {
      "text/plain": [
       "True"
      ]
     },
     "execution_count": 73,
     "metadata": {},
     "output_type": "execute_result"
    }
   ],
   "source": [
    "class Solution(object):\n",
    "    def isPalindrome(self, x):\n",
    "        \"\"\"\n",
    "        :type x: int\n",
    "        :rtype: bool\n",
    "        \"\"\"\n",
    "        \n",
    "        if x < 0 or (x != 0 and x%10 == 0):\n",
    "            return False\n",
    "\n",
    "        tmp = x\n",
    "        y = 0\n",
    "        while tmp:    #判斷條件可以是任何運算式，任何非零、或非空（null）的值均為true\n",
    "            y = y*10 + tmp%10\n",
    "            tmp = tmp/10\n",
    "        return y == x\n",
    "        \n",
    "        \n",
    "A =Solution()\n",
    "A.isPalindrome(1221)"
   ]
  },
  {
   "cell_type": "code",
   "execution_count": 39,
   "metadata": {},
   "outputs": [
    {
     "data": {
      "text/plain": [
       "2"
      ]
     },
     "execution_count": 39,
     "metadata": {},
     "output_type": "execute_result"
    }
   ],
   "source": [
    "class Solution(object):\n",
    "    def uniqueMorseRepresentations(self, words):\n",
    "        \"\"\"\n",
    "        :type words: List[str]\n",
    "        :rtype: int\n",
    "        \"\"\"\n",
    "        code = [\".-\",\"-...\",\"-.-.\",\"-..\",\".\",\"..-.\",\"--.\",\"....\",\"..\",\".---\",\"-.-\",\".-..\",\"--\",\"-.\",\"---\",\".--.\",\"--.-\",\".-.\",\"...\",\"-\",\"..-\",\"...-\",\".--\",\"-..-\",\"-.--\",\"--..\"]\n",
    "        \n",
    "        trans =[]\n",
    "                \n",
    "        for word in words :\n",
    "            pwd =''\n",
    "            for ch in word :\n",
    "                # Tips : ord() transfre to ASCII, then find array index to mapping code \n",
    "                pwd = pwd +''.join(code[ord(ch)-ord('a')]) \n",
    "        \n",
    "            trans.append(pwd)\n",
    "        \n",
    "        return len(set(trans)) # Set(）是無序、元素不重複的集合\n",
    "\n",
    "A = Solution()\n",
    "A.uniqueMorseRepresentations([\"gin\", \"zen\", \"gig\", \"msg\"])\n",
    "              \n"
   ]
  },
  {
   "cell_type": "markdown",
   "metadata": {},
   "source": [
    "### 804. Unique Morse Code Words\n",
    "\n",
    "https://leetcode.com/problems/unique-morse-code-words/description/\n",
    "\n",
    "\n",
    "       "
   ]
  },
  {
   "cell_type": "markdown",
   "metadata": {},
   "source": [
    "### 709. To Lower Case\n",
    "\n",
    "https://leetcode.com/problems/to-lower-case/description/\n",
    "\n",
    "PS. Tips : str.lower()"
   ]
  },
  {
   "cell_type": "code",
   "execution_count": 41,
   "metadata": {},
   "outputs": [
    {
     "data": {
      "text/plain": [
       "'hello word'"
      ]
     },
     "execution_count": 41,
     "metadata": {},
     "output_type": "execute_result"
    }
   ],
   "source": [
    "class Solution(object):\n",
    "    def toLowerCase(self, str):\n",
    "        \"\"\"\n",
    "        :type str: str\n",
    "        :rtype: str\n",
    "        \"\"\"\n",
    "        return str.lower() \n",
    "    \n",
    "A = Solution()\n",
    "A.toLowerCase(\"Hello WOrd\")\n",
    "              "
   ]
  },
  {
   "cell_type": "markdown",
   "metadata": {},
   "source": [
    "### 461. Hamming Distance\n",
    "\n",
    "https://leetcode.com/problems/hamming-distance/description/\n",
    "    "
   ]
  },
  {
   "cell_type": "code",
   "execution_count": 46,
   "metadata": {},
   "outputs": [
    {
     "data": {
      "text/plain": [
       "2"
      ]
     },
     "execution_count": 46,
     "metadata": {},
     "output_type": "execute_result"
    }
   ],
   "source": [
    "class Solution(object):\n",
    "    def hammingDistance(self, x, y):\n",
    "        \"\"\"\n",
    "        :type x: int\n",
    "        :type y: int\n",
    "        :rtype: int\n",
    "        \"\"\"\n",
    "        # 按位异或运算符 (^) ：当两对应的二进位相异时，结果为1\n",
    "        \n",
    "        return bin(x^y).count('1')\n",
    "         \n",
    "        \n",
    "A = Solution()\n",
    "\n",
    "A.hammingDistance(4,1)      \n",
    "        "
   ]
  },
  {
   "cell_type": "markdown",
   "metadata": {},
   "source": [
    "### 832. Flipping an Image\n",
    "\n",
    "https://leetcode.com/problems/flipping-an-image/description/\n",
    "\n",
    "Tips\n"
   ]
  },
  {
   "cell_type": "code",
   "execution_count": 67,
   "metadata": {},
   "outputs": [
    {
     "name": "stdout",
     "output_type": "stream",
     "text": [
      "[0, 1, 1]\n",
      "[1, 0, 1]\n",
      "[0, 0, 0]\n"
     ]
    },
    {
     "data": {
      "text/plain": [
       "[[1, 0, 0], [0, 1, 0], [1, 1, 1]]"
      ]
     },
     "execution_count": 67,
     "metadata": {},
     "output_type": "execute_result"
    }
   ],
   "source": [
    "class Solution(object):\n",
    "    def flipAndInvertImage(self, A):\n",
    "        \"\"\"\n",
    "        :type A: List[List[int]]\n",
    "        :rtype: List[List[int]]\n",
    "        \"\"\"\n",
    "           \n",
    "        for row in range(len(A)):\n",
    "            A[row] =A[row][::-1]\n",
    "            print A[row]\n",
    "            \n",
    "            A[row] = [ch^1 for ch in A[row]]\n",
    "                \n",
    "        return A\n",
    "                \n",
    "        \n",
    "        \n",
    "A = Solution()\n",
    "A.flipAndInvertImage([[1,1,0],[1,0,1],[0,0,0]])"
   ]
  },
  {
   "cell_type": "markdown",
   "metadata": {},
   "source": [
    "### 657. Judge Route Circle\n",
    "\n",
    "https://leetcode.com/problems/judge-route-circle/description/\n",
    "\n",
    "Tips: \n",
    "機器人只能向上、下、左、右移動，想要路徑構成環，就一定是朝相互相反的方向來回走\n",
    "那就必須是：向左走了多少步，就要向右走多少步；向上走了多少步，就要向下走多少步"
   ]
  },
  {
   "cell_type": "code",
   "execution_count": 71,
   "metadata": {},
   "outputs": [
    {
     "data": {
      "text/plain": [
       "True"
      ]
     },
     "execution_count": 71,
     "metadata": {},
     "output_type": "execute_result"
    }
   ],
   "source": [
    "class Solution(object):\n",
    "    def judgeCircle(self, moves):\n",
    "        \"\"\"\n",
    "        :type moves: str\n",
    "        :rtype: bool\n",
    "        \"\"\"\n",
    "        \n",
    "        if len(moves) % 2 ==0 and moves.count(\"U\") == moves.count(\"D\") and moves.count(\"L\") == moves.count(\"R\") :\n",
    "            return True\n",
    "        else :\n",
    "            return False\n",
    "\n",
    "A = Solution()\n",
    "A.judgeCircle(\"DULURD\")"
   ]
  },
  {
   "cell_type": "markdown",
   "metadata": {},
   "source": [
    "### 617. Merge Two Binary Trees\n",
    "\n",
    "https://leetcode.com/problems/merge-two-binary-trees/description/\n",
    "    \n"
   ]
  },
  {
   "cell_type": "code",
   "execution_count": 12,
   "metadata": {},
   "outputs": [],
   "source": [
    "# Definition for a binary tree node.\n",
    "class TreeNode(object):\n",
    "    def __init__(self, x):\n",
    "            self.val = x\n",
    "            self.left = None\n",
    "            self.right = None\n",
    "            \n",
    "    def insertLeft(self, val):\n",
    "         # 如果要新增左邊節點，先檢查是否已存在，若左節點不存在則放入左節點\n",
    "        if self.left == None:\n",
    "                self.left = TreeNode(val)\n",
    "        else:\n",
    "             self.left.insertLeft(val)\n",
    "    \n",
    "    def insertRight(self, val):\n",
    "         # 新增右邊節點的方式則和新增左節點的方式相同\n",
    "        if self.right == None:\n",
    "             self.right = TreeNode(val)\n",
    "        else:\n",
    "             self.right.insertRight(val)\n",
    "            \n",
    "\n",
    "class Solution(object):\n",
    "    def mergeTrees(self, t1, t2):\n",
    "        \"\"\"\n",
    "        :type t1: TreeNode\n",
    "        :type t2: TreeNode\n",
    "        :rtype: TreeNode\n",
    "        \"\"\"\n",
    "        \n",
    "        if t1 is None : return t2\n",
    "        if t2 is None : return t1\n",
    "        \n",
    "        t1.val + t1.val +t2.val\n",
    "        t1.right = self.mergeTrees(t1.right,t2.right)\n",
    "        t1.left = self.mergeTrees(t1.left,t2.left)\n",
    "        \n",
    "        return t1   \n",
    "        \n",
    "A = Solution()\n",
    "\n",
    "A.mergeTrees()\n"
   ]
  },
  {
   "cell_type": "markdown",
   "metadata": {},
   "source": [
    "### 852. Peak Index in a Mountain Array\n",
    "\n",
    "https://leetcode.com/problems/peak-index-in-a-mountain-array/description/\n",
    "\n",
    "Tips : (1) 找出一個陣列中的山峰的索引。山峰的意思是指在一個長度大於3的陣列中，某個數值比相鄰的兩個數值都大\n",
    "       (Binary Search)\n"
   ]
  },
  {
   "cell_type": "code",
   "execution_count": 3,
   "metadata": {},
   "outputs": [
    {
     "name": "stdout",
     "output_type": "stream",
     "text": [
      "1\n"
     ]
    }
   ],
   "source": [
    "class Solution(object):\n",
    "    def peakIndexInMountainArray(self, A):\n",
    "        \"\"\"\n",
    "        :type A: List[int]\n",
    "        :rtype: int\n",
    "        \"\"\"\n",
    "        \n",
    "        left, right = 0, len(A) - 1\n",
    "        while left < right:\n",
    "            mid = (left + right) / 2\n",
    "            if A[mid - 1] < A[mid] and A[mid] < A[mid + 1]:\n",
    "                left = mid\n",
    "            elif A[mid - 1] > A[mid] and A[mid] > A[mid + 1]:\n",
    "                right = mid\n",
    "            else:\n",
    "                break\n",
    "        return mid\n",
    "\n",
    "A = Solution()\n",
    "print A.peakIndexInMountainArray([0,1,0])"
   ]
  },
  {
   "cell_type": "markdown",
   "metadata": {},
   "source": [
    "### 561. Array Partition I\n",
    "\n",
    "https://leetcode.com/problems/array-partition-i/description/\n",
    "    "
   ]
  },
  {
   "cell_type": "code",
   "execution_count": 9,
   "metadata": {},
   "outputs": [
    {
     "data": {
      "text/plain": [
       "4"
      ]
     },
     "execution_count": 9,
     "metadata": {},
     "output_type": "execute_result"
    }
   ],
   "source": [
    "class Solution(object):\n",
    "    def arrayPairSum(self, nums):\n",
    "        \"\"\"\n",
    "        :type nums: List[int]\n",
    "        :rtype: int\n",
    "        \"\"\"\n",
    "        nums.sort()\n",
    "        return sum(nums[::2])\n",
    "    \n",
    "A = Solution()\n",
    "A.arrayPairSum([1,4,2,3])"
   ]
  },
  {
   "cell_type": "markdown",
   "metadata": {},
   "source": [
    "### 728. Self Dividing Numbers\n",
    "\n",
    "https://leetcode.com/problems/self-dividing-numbers/description/\n",
    "\n",
    "Tips : \n",
    "\n",
    "128 is a self-dividing number because 128 % 1 == 0, 128 % 2 == 0, and 128 % 8 == 0."
   ]
  },
  {
   "cell_type": "code",
   "execution_count": 16,
   "metadata": {},
   "outputs": [
    {
     "data": {
      "text/plain": [
       "[1, 2, 3, 4, 5, 6, 7, 8, 9, 11, 12, 15, 22]"
      ]
     },
     "execution_count": 16,
     "metadata": {},
     "output_type": "execute_result"
    }
   ],
   "source": [
    "class Solution(object):\n",
    "    def selfDividingNumbers(self, left, right):\n",
    "        \"\"\"\n",
    "        :type left: int\n",
    "        :type right: int\n",
    "        :rtype: List[int]\n",
    "        \"\"\"\n",
    "        \n",
    "        answer = []\n",
    "        \n",
    "        for num in range(left,right+1) :\n",
    "            \n",
    "            if  '0' in str(num):\n",
    "                pass\n",
    "            \n",
    "            else :\n",
    "                count = 0\n",
    "                for i in str(num):\n",
    "                    count = count + num % int(i)\n",
    "                if count == 0:\n",
    "                    answer.append(num)\n",
    "                    \n",
    "        return answer\n",
    "\n",
    "A = Solution()\n",
    "A.selfDividingNumbers(1,22)"
   ]
  },
  {
   "cell_type": "code",
   "execution_count": null,
   "metadata": {},
   "outputs": [],
   "source": [
    "### 867. Transpose Matrix\n",
    "\n",
    "https://leetcode.com/problems/transpose-matrix/description/\n",
    "\n"
   ]
  },
  {
   "cell_type": "code",
   "execution_count": 17,
   "metadata": {},
   "outputs": [
    {
     "name": "stdout",
     "output_type": "stream",
     "text": [
      "[[0, 0], [0, 0], [0, 0], [0, 0]]\n"
     ]
    },
    {
     "data": {
      "text/plain": [
       "[[1, 3], [4, 6], [2, 2], [5, 1]]"
      ]
     },
     "execution_count": 17,
     "metadata": {},
     "output_type": "execute_result"
    }
   ],
   "source": [
    "class Solution(object):\n",
    "    def transpose(self, A):\n",
    "        \"\"\"\n",
    "        :type A: List[List[int]]\n",
    "        :rtype: List[List[int]]\n",
    "        \"\"\"\n",
    "        \n",
    "        x = len(A[0])\n",
    "        y = len(A)\n",
    "        res = [[0 for i in range(y)] for j  in range(x)]\n",
    "        \n",
    "        print res\n",
    "        \n",
    "        for i in range(y):\n",
    "           for j in range(x):\n",
    "               res[j][i] = A[i][j]\n",
    "        return res\n",
    "\n",
    "A = Solution()    \n",
    "A.transpose([[1,4,2,5],[3,6,2,1]])"
   ]
  },
  {
   "cell_type": "markdown",
   "metadata": {},
   "source": [
    "### 806. Number of Lines To Write String\n",
    "\n",
    "https://leetcode.com/problems/number-of-lines-to-write-string/description/"
   ]
  },
  {
   "cell_type": "code",
   "execution_count": 19,
   "metadata": {},
   "outputs": [
    {
     "data": {
      "text/plain": [
       "[2, 4]"
      ]
     },
     "execution_count": 19,
     "metadata": {},
     "output_type": "execute_result"
    }
   ],
   "source": [
    "class Solution(object):\n",
    "    def numberOfLines(self, widths, S):\n",
    "        \"\"\"\n",
    "        :type widths: List[int]\n",
    "        :type S: str\n",
    "        :rtype: List[int]\n",
    "        \"\"\"\n",
    "        lines = 1\n",
    "        last = 0\n",
    "        for s in S:\n",
    "            width = widths[ord(s) - ord('a')]\n",
    "            last += width\n",
    "            if last > 100:\n",
    "                lines += 1\n",
    "                last = width\n",
    "        return [lines, last]\n",
    "        \n",
    "A = Solution()\n",
    "A.numberOfLines([4,10,10,10,10,10,10,10,10,10,10,10,10,10,10,10,10,10,10,10,10,10,10,10,10,10],\"bbbcccdddaaa\")"
   ]
  },
  {
   "cell_type": "markdown",
   "metadata": {},
   "source": [
    "### 872. Leaf-Similar Trees\n",
    "\n",
    "https://leetcode.com/problems/leaf-similar-trees/desc\n",
    "    \n",
    "Tips :\n",
    "一棵樹從左到右的序列應該使用中序遍歷，當中序遍歷時，如果節點是葉子節點則放入序列之中。\n",
    "所以判斷兩棵樹的序列是否相等即可。\n"
   ]
  },
  {
   "cell_type": "code",
   "execution_count": null,
   "metadata": {},
   "outputs": [],
   "source": [
    "class Solution:\n",
    "    def leafSimilar(self, root1, root2):\n",
    "        \"\"\"\n",
    "        :type root1: TreeNode\n",
    "        :type root2: TreeNode\n",
    "        :rtype: bool\n",
    "        \"\"\"\n",
    "        leaves1 = []\n",
    "        leaves2 = []\n",
    "        self.inOrder(root1, leaves1)\n",
    "        self.inOrder(root2, leaves2)\n",
    "        return leaves1 == leaves2\n",
    "\n",
    "    def inOrder(self, root, leaves):\n",
    "        if not root:\n",
    "            return\n",
    "        self.inOrder(root.left, leaves)\n",
    "        if not root.left and not root.right:\n",
    "            leaves.append(root.val)\n",
    "        self.inOrder(root.right, leaves)\n",
    "\n",
    "A = Solution()\n",
    "A.leafSimilar([3,5,1,6,2,9,8,null,null,7,4])"
   ]
  },
  {
   "cell_type": "code",
   "execution_count": null,
   "metadata": {},
   "outputs": [],
   "source": [
    "### 557. Reverse Words in a String III\n",
    "\n",
    "https://leetcode.com/problems/reverse-words-in-a-string-iii/description/\n",
    "    \n",
    "Input: \"Let's take LeetCode contest\"\n",
    "Output: \"s'teL ekat edoCteeL tsetnoc\""
   ]
  },
  {
   "cell_type": "code",
   "execution_count": 1,
   "metadata": {},
   "outputs": [
    {
     "data": {
      "text/plain": [
       "\"s'teL ekat edoCteeL tsetnoc\""
      ]
     },
     "execution_count": 1,
     "metadata": {},
     "output_type": "execute_result"
    }
   ],
   "source": [
    "class Solution(object):\n",
    "    def reverseWords(self, s):\n",
    "        \"\"\"\n",
    "        :type s: str\n",
    "        :rtype: str\n",
    "        \"\"\"\n",
    "        \n",
    "        words = s.split(\" \")\n",
    "        reverse =\"\"\n",
    "        \n",
    "        for word in words:\n",
    "            reverse =reverse+\" \"+word[::-1]\n",
    "        \n",
    "        return reverse[1::]\n",
    "               \n",
    "        \n",
    "A = Solution()\n",
    "A.reverseWords(\"Let's take LeetCode contest\")"
   ]
  },
  {
   "cell_type": "markdown",
   "metadata": {},
   "source": [
    "### 796. Rotate String\n",
    "\n",
    "https://leetcode.com/problems/rotate-string/description/"
   ]
  },
  {
   "cell_type": "code",
   "execution_count": 23,
   "metadata": {},
   "outputs": [
    {
     "data": {
      "text/plain": [
       "True"
      ]
     },
     "execution_count": 23,
     "metadata": {},
     "output_type": "execute_result"
    }
   ],
   "source": [
    "class Solution(object):\n",
    "    def rotateString(self, A, B):\n",
    "        \"\"\"\n",
    "        :type A: str\n",
    "        :type B: str\n",
    "        :rtype: bool\n",
    "        \"\"\"\n",
    "        \n",
    "        if A == \"\" and B == \"\" :\n",
    "            return True\n",
    "        \n",
    "        for i in range(len(A)) :            \n",
    "            if A[i:] + A[:i] == B :\n",
    "                return True\n",
    "        return False\n",
    "    \n",
    "A = Solution()\n",
    "A.rotateString('abcde','cdeab')"
   ]
  },
  {
   "cell_type": "markdown",
   "metadata": {},
   "source": [
    "### 226. Invert Binary Tree\n",
    "\n",
    "https://leetcode.com/problems/invert-binary-tree/description/\n",
    "\n"
   ]
  },
  {
   "cell_type": "code",
   "execution_count": 28,
   "metadata": {},
   "outputs": [],
   "source": [
    "# Definition for a binary tree node.\n",
    "# class TreeNode(object):\n",
    "#     def __init__(self, x):\n",
    "#         self.val = x\n",
    "#         self.left = None\n",
    "#         self.right = None\n",
    "\n",
    "class Solution(object):\n",
    "    def invertTree(self, root):\n",
    "        \"\"\"\n",
    "        :type root: TreeNode\n",
    "        :rtype: TreeNode\n",
    "        \"\"\"\n",
    "        \n",
    "        if root == None:\n",
    "            return root\n",
    "           \n",
    "        temp = root.left\n",
    "        root.left = self.invertTree(root.right)\n",
    "        root.right = self.invertTree(temp)\n",
    "        \n",
    "        return root\n",
    "    "
   ]
  },
  {
   "cell_type": "markdown",
   "metadata": {},
   "source": [
    "### 824. Goat Latin\n",
    "\n",
    "https://leetcode.com/problems/goat-latin/description/\n",
    "\n",
    "Input: \"I speak Goat Latin\"\n",
    "Output: \"Imaa peaksmaaa oatGmaaaa atinLmaaaaa\""
   ]
  },
  {
   "cell_type": "code",
   "execution_count": 27,
   "metadata": {},
   "outputs": [
    {
     "data": {
      "text/plain": [
       "'Imaa peaksmaaa oatGmaaaa atinLmaaaaa'"
      ]
     },
     "execution_count": 27,
     "metadata": {},
     "output_type": "execute_result"
    }
   ],
   "source": [
    "class Solution(object):\n",
    "    def toGoatLatin(self, S):\n",
    "        \"\"\"\n",
    "        :type S: str\n",
    "        :rtype: str\n",
    "        \"\"\"\n",
    "        \n",
    "        vowels = ['a', 'e', 'i', 'o', 'u', 'A', 'E', 'I', 'O', 'U']\n",
    "        words = S.split(' ')\n",
    "        \n",
    "        new_words = []\n",
    "        \n",
    "        for i, word in enumerate(words):\n",
    "            if word[0] in vowels:\n",
    "                word +=\"ma\"\n",
    "            else :\n",
    "                word = word[1:]+word[0]+\"ma\"\n",
    "            \n",
    "            word += 'a'*(i+1)\n",
    "            new_words.append(word)\n",
    "        return ' '.join(new_words)\n",
    "\n",
    "A = Solution()\n",
    "A.toGoatLatin(\"I speak Goat Latin\")"
   ]
  },
  {
   "cell_type": "markdown",
   "metadata": {},
   "source": [
    "### 104. Maximum Depth of Binary Tree\n",
    "\n",
    "https://leetcode.com/problems/maximum-depth-of-binary-tree/description/\n",
    "    "
   ]
  },
  {
   "cell_type": "code",
   "execution_count": 30,
   "metadata": {},
   "outputs": [],
   "source": [
    "# Definition for a binary tree node.\n",
    "class TreeNode(object):\n",
    "    def __init__(self, x):\n",
    "        self.val = x\n",
    "        self.left = None\n",
    "        self.right = None\n",
    "\n",
    "class Solution(object):\n",
    "    def maxDepth(self, root):\n",
    "        \"\"\"\n",
    "        :type root: TreeNode\n",
    "        :rtype: int\n",
    "        \"\"\"\n",
    "        \n",
    "        if root ==None:\n",
    "            return 0\n",
    "        \n",
    "        return 1 + max(self.maxDepth(root.left), self.maxDepth(root.right))\n",
    "\n",
    "        "
   ]
  },
  {
   "cell_type": "markdown",
   "metadata": {},
   "source": [
    "### 784. Letter Case Permutation\n",
    "\n",
    "https://leetcode.com/problems/letter-case-permutation/description/\n"
   ]
  },
  {
   "cell_type": "markdown",
   "metadata": {},
   "source": [
    "### 389. Find the Difference\n",
    "\n",
    "https://leetcode.com/problems/find-the-difference/description/\n",
    "    \n",
    "Tips :\n",
    "分別統計s和t中每個字母出現的次數，不一樣的即為所求。為了減少計算量，可以先遍歷s，\n",
    "用陣列統計26個字母出現的次數；再遍歷t，在剛才的陣列基礎上對出現的字母次數減一，次數出現負數的字母即為所求\n"
   ]
  },
  {
   "cell_type": "code",
   "execution_count": 40,
   "metadata": {},
   "outputs": [
    {
     "data": {
      "text/plain": [
       "'g'"
      ]
     },
     "execution_count": 40,
     "metadata": {},
     "output_type": "execute_result"
    }
   ],
   "source": [
    "class Solution(object):\n",
    "    def findTheDifference(self, s, t):\n",
    "        \"\"\"\n",
    "        :type s: str\n",
    "        :type t: str\n",
    "        :rtype: str\n",
    "        \"\"\"\n",
    "        \n",
    "        letters = {}\n",
    "        for c in s:\n",
    "\n",
    "            if c in letters :dd\n",
    "                letters[c] = letters[c] + 1\n",
    "\n",
    "            else :\n",
    "                letters[c] = 1 \n",
    "\n",
    "        for c in t:\n",
    "\n",
    "            if c not in letters:\n",
    "                return c\n",
    "\n",
    "            letters[c] -= 1\n",
    "            if letters[c] < 0 :\n",
    "                return c \n",
    "\n",
    "A = Solution()\n",
    "A.findTheDifference(\"abced\",\"abcdeg\")"
   ]
  },
  {
   "cell_type": "markdown",
   "metadata": {},
   "source": [
    "### 169. Majority Element\n",
    "\n",
    "https://leetcode.com/problems/majority-element/description/\n",
    "\n",
    "Tips :\n",
    "Sort）先對陣列進行排序，因為多數元素一定存在，且個數超過總個數的一半，\n",
    "排序後最中間的那個元素一定是多數元素"
   ]
  },
  {
   "cell_type": "code",
   "execution_count": 47,
   "metadata": {},
   "outputs": [
    {
     "name": "stdout",
     "output_type": "stream",
     "text": [
      "[1, 1, 1, 1, 1, 1, 1, 1, 2, 2, 3, 4, 4, 5, 6]\n"
     ]
    },
    {
     "data": {
      "text/plain": [
       "1"
      ]
     },
     "execution_count": 47,
     "metadata": {},
     "output_type": "execute_result"
    }
   ],
   "source": [
    "class Solution(object):\n",
    "    def majorityElement(self, nums):\n",
    "        \"\"\"\n",
    "        :type nums: List[int]\n",
    "        :rtype: int\n",
    "        \"\"\"        \n",
    "        \n",
    "        nums.sort()\n",
    "        \n",
    "        print nums\n",
    "        \n",
    "        return nums[len(nums)/2]\n",
    "\n",
    "A =Solution()\n",
    "A.majorityElement([1,4,6,3,2,1,1,1,1,1,1,1,2,4,5])"
   ]
  },
  {
   "cell_type": "code",
   "execution_count": null,
   "metadata": {},
   "outputs": [],
   "source": []
  }
 ],
 "metadata": {
  "kernelspec": {
   "display_name": "Python 2",
   "language": "python",
   "name": "python2"
  },
  "language_info": {
   "codemirror_mode": {
    "name": "ipython",
    "version": 2
   },
   "file_extension": ".py",
   "mimetype": "text/x-python",
   "name": "python",
   "nbconvert_exporter": "python",
   "pygments_lexer": "ipython2",
   "version": "2.7.12"
  }
 },
 "nbformat": 4,
 "nbformat_minor": 2
}
